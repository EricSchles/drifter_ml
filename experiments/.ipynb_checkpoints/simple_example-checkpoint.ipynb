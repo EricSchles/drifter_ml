{
 "cells": [
  {
   "cell_type": "markdown",
   "metadata": {},
   "source": [
    "# Different data"
   ]
  },
  {
   "cell_type": "code",
   "execution_count": 41,
   "metadata": {},
   "outputs": [
    {
     "name": "stdout",
     "output_type": "stream",
     "text": [
      "              precision    recall  f1-score   support\n",
      "\n",
      "           0       0.47      0.62      0.54       103\n",
      "           1       0.66      0.52      0.58       147\n",
      "\n",
      "    accuracy                           0.56       250\n",
      "   macro avg       0.57      0.57      0.56       250\n",
      "weighted avg       0.58      0.56      0.56       250\n",
      "\n"
     ]
    }
   ],
   "source": [
    "from sklearn.datasets import make_gaussian_quantiles\n",
    "from sklearn.linear_model import LogisticRegression\n",
    "from sklearn.metrics import classification_report\n",
    "from sklearn.model_selection import train_test_split\n",
    "\n",
    "X_one, y_one = make_gaussian_quantiles(\n",
    "    mean=[0, 0, 0, 0, 0], cov=1.0, \n",
    "    n_samples=1000, \n",
    "    n_features=5, \n",
    "    n_classes=2, \n",
    "    shuffle=True, \n",
    "    random_state=0\n",
    ")\n",
    "\n",
    "X_two, y_two = make_gaussian_quantiles(\n",
    "    mean=[1000, 1000, 1000, 1000, 1000], \n",
    "    cov=10.0, \n",
    "    n_samples=1000, \n",
    "    n_features=5, \n",
    "    n_classes=2, \n",
    "    shuffle=True, \n",
    "    random_state=100\n",
    ")\n",
    "\n",
    "X_train, X_test, y_train, y_test = train_test_split(\n",
    "    X_one, y_one, test_size=0.5\n",
    ")\n",
    "X_test, X_val, y_test, y_val = train_test_split(\n",
    "    X_test, y_test, test_size=0.5\n",
    ")\n",
    "clf = LogisticRegression(\n",
    "    C=1e-15, penalty=\"l2\", \n",
    "    solver=\"lbfgs\", max_iter=100\n",
    ")\n",
    "clf.fit(X_train, y_train)\n",
    "y_pred = clf.predict(X_test)\n",
    "print(classification_report(y_pred, y_test))"
   ]
  },
  {
   "cell_type": "code",
   "execution_count": 44,
   "metadata": {},
   "outputs": [
    {
     "name": "stdout",
     "output_type": "stream",
     "text": [
      "              precision    recall  f1-score   support\n",
      "\n",
      "           0       1.00      0.48      0.64       250\n",
      "           1       0.00      0.00      0.00         0\n",
      "\n",
      "    accuracy                           0.48       250\n",
      "   macro avg       0.50      0.24      0.32       250\n",
      "weighted avg       1.00      0.48      0.64       250\n",
      "\n"
     ]
    },
    {
     "name": "stderr",
     "output_type": "stream",
     "text": [
      "/usr/local/lib/python3.6/dist-packages/sklearn/metrics/_classification.py:1272: UndefinedMetricWarning: Recall and F-score are ill-defined and being set to 0.0 in labels with no true samples. Use `zero_division` parameter to control this behavior.\n",
      "  _warn_prf(average, modifier, msg_start, len(result))\n"
     ]
    }
   ],
   "source": [
    "# Retrain\n",
    "surrogate_clf = LogisticRegression(**clf.get_params())\n",
    "prod_y_pred = clf.predict(X_two)\n",
    "prod_y_pred[-1] = 1\n",
    "surrogate_clf.fit(X_two, prod_y_pred)\n",
    "y_two_pred = surrogate_clf.predict(X_val)\n",
    "print(classification_report(y_two_pred, y_val))"
   ]
  },
  {
   "cell_type": "markdown",
   "metadata": {},
   "source": [
    "# Same data"
   ]
  },
  {
   "cell_type": "code",
   "execution_count": 45,
   "metadata": {},
   "outputs": [
    {
     "name": "stdout",
     "output_type": "stream",
     "text": [
      "              precision    recall  f1-score   support\n",
      "\n",
      "           0       0.45      0.59      0.52       101\n",
      "           1       0.65      0.52      0.58       149\n",
      "\n",
      "    accuracy                           0.55       250\n",
      "   macro avg       0.55      0.56      0.55       250\n",
      "weighted avg       0.57      0.55      0.55       250\n",
      "\n"
     ]
    }
   ],
   "source": [
    "from sklearn.datasets import make_gaussian_quantiles\n",
    "from sklearn.linear_model import LogisticRegression\n",
    "from sklearn.metrics import classification_report\n",
    "from sklearn.model_selection import train_test_split\n",
    "\n",
    "X_one, y_one = make_gaussian_quantiles(\n",
    "    mean=[0, 0, 0, 0, 0], cov=1.0, \n",
    "    n_samples=1000, \n",
    "    n_features=5, \n",
    "    n_classes=2, \n",
    "    shuffle=True, \n",
    "    random_state=0\n",
    ")\n",
    "\n",
    "X_two, y_two = make_gaussian_quantiles(\n",
    "    mean=[0, 0, 0, 0, 0], cov=1.0, \n",
    "    n_samples=1000, \n",
    "    n_features=5, \n",
    "    n_classes=2, \n",
    "    shuffle=True, \n",
    "    random_state=0\n",
    ")\n",
    "\n",
    "X_train, X_test, y_train, y_test = train_test_split(\n",
    "    X_one, y_one, test_size=0.5\n",
    ")\n",
    "X_test, X_val, y_test, y_val = train_test_split(\n",
    "    X_test, y_test, test_size=0.5\n",
    ")\n",
    "clf = LogisticRegression(\n",
    "    C=1e-15, penalty=\"l2\", \n",
    "    solver=\"lbfgs\", max_iter=100\n",
    ")\n",
    "clf.fit(X_train, y_train)\n",
    "y_pred = clf.predict(X_test)\n",
    "print(classification_report(y_pred, y_test))"
   ]
  },
  {
   "cell_type": "code",
   "execution_count": 46,
   "metadata": {},
   "outputs": [
    {
     "name": "stdout",
     "output_type": "stream",
     "text": [
      "              precision    recall  f1-score   support\n",
      "\n",
      "           0       0.53      0.50      0.52       130\n",
      "           1       0.49      0.53      0.51       120\n",
      "\n",
      "    accuracy                           0.51       250\n",
      "   macro avg       0.51      0.51      0.51       250\n",
      "weighted avg       0.51      0.51      0.51       250\n",
      "\n"
     ]
    }
   ],
   "source": [
    "# Retrain\n",
    "surrogate_clf = LogisticRegression(**clf.get_params())\n",
    "prod_y_pred = clf.predict(X_two)\n",
    "prod_y_pred[-1] = 1\n",
    "surrogate_clf.fit(X_two, prod_y_pred)\n",
    "y_two_pred = surrogate_clf.predict(X_val)\n",
    "print(classification_report(y_two_pred, y_val))"
   ]
  },
  {
   "cell_type": "code",
   "execution_count": null,
   "metadata": {},
   "outputs": [],
   "source": []
  }
 ],
 "metadata": {
  "kernelspec": {
   "display_name": "Python 3",
   "language": "python",
   "name": "python3"
  },
  "language_info": {
   "codemirror_mode": {
    "name": "ipython",
    "version": 3
   },
   "file_extension": ".py",
   "mimetype": "text/x-python",
   "name": "python",
   "nbconvert_exporter": "python",
   "pygments_lexer": "ipython3",
   "version": "3.6.9"
  }
 },
 "nbformat": 4,
 "nbformat_minor": 2
}
